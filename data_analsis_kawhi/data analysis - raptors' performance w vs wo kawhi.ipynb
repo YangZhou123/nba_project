{
 "cells": [
  {
   "cell_type": "code",
   "execution_count": 235,
   "metadata": {
    "scrolled": true
   },
   "outputs": [
    {
     "name": "stderr",
     "output_type": "stream",
     "text": [
      "c:\\program files\\python36\\lib\\site-packages\\ipykernel_launcher.py:2: ParserWarning: Falling back to the 'python' engine because the 'c' engine does not support regex separators (separators > 1 char and different from '\\s+' are interpreted as regex); you can avoid this warning by specifying engine='python'.\n",
      "  \n",
      "c:\\program files\\python36\\lib\\site-packages\\ipykernel_launcher.py:3: ParserWarning: Falling back to the 'python' engine because the 'c' engine does not support regex separators (separators > 1 char and different from '\\s+' are interpreted as regex); you can avoid this warning by specifying engine='python'.\n",
      "  This is separate from the ipykernel package so we can avoid doing imports until\n",
      "c:\\program files\\python36\\lib\\site-packages\\ipykernel_launcher.py:4: ParserWarning: Falling back to the 'python' engine because the 'c' engine does not support regex separators (separators > 1 char and different from '\\s+' are interpreted as regex); you can avoid this warning by specifying engine='python'.\n",
      "  after removing the cwd from sys.path.\n",
      "c:\\program files\\python36\\lib\\site-packages\\ipykernel_launcher.py:5: ParserWarning: Falling back to the 'python' engine because the 'c' engine does not support regex separators (separators > 1 char and different from '\\s+' are interpreted as regex); you can avoid this warning by specifying engine='python'.\n",
      "  \"\"\"\n"
     ]
    }
   ],
   "source": [
    "import pandas as pd\n",
    "df0 = pd.read_csv('data0.txt', sep=\"\\s*\")\n",
    "df1 = pd.read_csv('data1.txt', sep=\"\\s*\")\n",
    "df_t0 = pd.read_csv('tdata0.txt', sep=\"\\s*\")\n",
    "df_t1 = pd.read_csv('tdata1.txt', sep=\"\\s*\")"
   ]
  },
  {
   "cell_type": "code",
   "execution_count": 94,
   "metadata": {},
   "outputs": [],
   "source": [
    "pd.set_option('display.max_columns', 40)"
   ]
  },
  {
   "cell_type": "code",
   "execution_count": 236,
   "metadata": {},
   "outputs": [],
   "source": [
    "df = pd.concat([df0,df1])\n",
    "df_t = pd.concat([df_t0,df_t1])\n",
    "\n",
    "df = df.reset_index(level=[0,1])\n",
    "df_t = df_t.reset_index(level=[0,1])\n",
    "\n",
    "df['date'] = df['level_1']+df['level_0'].str.lower()\n",
    "df_t['date'] = df_t['level_1']+df_t['level_0'].str.lower()\n",
    "\n"
   ]
  },
  {
   "cell_type": "code",
   "execution_count": 239,
   "metadata": {},
   "outputs": [],
   "source": [
    "df = df['date']"
   ]
  },
  {
   "cell_type": "code",
   "execution_count": 242,
   "metadata": {},
   "outputs": [],
   "source": [
    "list_w_kl = list(df)"
   ]
  },
  {
   "cell_type": "code",
   "execution_count": 250,
   "metadata": {
    "scrolled": true
   },
   "outputs": [],
   "source": [
    "df_w_kawhi = df_t[df_t[\"date\"].isin(list_w_kl)]"
   ]
  },
  {
   "cell_type": "code",
   "execution_count": 264,
   "metadata": {
    "scrolled": false
   },
   "outputs": [],
   "source": [
    "df_wo_kawhi = df_t[~df_t[\"date\"].isin(list_w_kl)]"
   ]
  },
  {
   "cell_type": "code",
   "execution_count": 258,
   "metadata": {},
   "outputs": [],
   "source": [
    "team_stat = [48.5,114.4,42.2,89.1,47.4,12.4,33.8,36.6,17.7,22.0,80.4,9.6,35.6,45.2,25.4,14.0,8.3,5.3,21.0]"
   ]
  },
  {
   "cell_type": "code",
   "execution_count": 259,
   "metadata": {},
   "outputs": [],
   "source": [
    "dictionary = dict(zip(list(df_mean.index), team_stat))"
   ]
  },
  {
   "cell_type": "code",
   "execution_count": 260,
   "metadata": {
    "scrolled": true
   },
   "outputs": [],
   "source": [
    "df_team_stat = pd.DataFrame.from_dict(dictionary,orient='index').rename(index=str, columns={0: \"team_stat\"})"
   ]
  },
  {
   "cell_type": "code",
   "execution_count": 266,
   "metadata": {
    "scrolled": true
   },
   "outputs": [],
   "source": [
    "team_stat_df_w_Kawhi = pd.DataFrame(df_w_kawhi.mean()).rename(index=str, columns={0: \"team_stat_w_Kawhi\"})\n",
    "team_stat_df_wo_Kawhi = pd.DataFrame(df_wo_kawhi.mean()).rename(index=str, columns={0: \"team_stat_wo_Kawhi\"})"
   ]
  },
  {
   "cell_type": "code",
   "execution_count": 276,
   "metadata": {},
   "outputs": [],
   "source": [
    "res = pd.concat([df_team_stat,team_stat_df_w_Kawhi,team_stat_df_wo_Kawhi],axis=1, sort=False).drop(['MIN'])"
   ]
  },
  {
   "cell_type": "code",
   "execution_count": 277,
   "metadata": {
    "scrolled": true
   },
   "outputs": [
    {
     "data": {
      "text/html": [
       "<div>\n",
       "<style scoped>\n",
       "    .dataframe tbody tr th:only-of-type {\n",
       "        vertical-align: middle;\n",
       "    }\n",
       "\n",
       "    .dataframe tbody tr th {\n",
       "        vertical-align: top;\n",
       "    }\n",
       "\n",
       "    .dataframe thead th {\n",
       "        text-align: right;\n",
       "    }\n",
       "</style>\n",
       "<table border=\"1\" class=\"dataframe\">\n",
       "  <thead>\n",
       "    <tr style=\"text-align: right;\">\n",
       "      <th></th>\n",
       "      <th>team_stat</th>\n",
       "      <th>team_stat_w_Kawhi</th>\n",
       "      <th>team_stat_wo_Kawhi</th>\n",
       "    </tr>\n",
       "  </thead>\n",
       "  <tbody>\n",
       "    <tr>\n",
       "      <th>PTS</th>\n",
       "      <td>114.4</td>\n",
       "      <td>113.433333</td>\n",
       "      <td>117.181818</td>\n",
       "    </tr>\n",
       "    <tr>\n",
       "      <th>FGM</th>\n",
       "      <td>42.2</td>\n",
       "      <td>41.866667</td>\n",
       "      <td>43.090909</td>\n",
       "    </tr>\n",
       "    <tr>\n",
       "      <th>FGA</th>\n",
       "      <td>89.1</td>\n",
       "      <td>88.650000</td>\n",
       "      <td>90.272727</td>\n",
       "    </tr>\n",
       "    <tr>\n",
       "      <th>FG%</th>\n",
       "      <td>47.4</td>\n",
       "      <td>47.453333</td>\n",
       "      <td>47.954545</td>\n",
       "    </tr>\n",
       "    <tr>\n",
       "      <th>3PM</th>\n",
       "      <td>12.4</td>\n",
       "      <td>11.933333</td>\n",
       "      <td>13.590909</td>\n",
       "    </tr>\n",
       "    <tr>\n",
       "      <th>3PA</th>\n",
       "      <td>33.8</td>\n",
       "      <td>33.033333</td>\n",
       "      <td>35.863636</td>\n",
       "    </tr>\n",
       "    <tr>\n",
       "      <th>3P%</th>\n",
       "      <td>36.6</td>\n",
       "      <td>35.990000</td>\n",
       "      <td>37.959091</td>\n",
       "    </tr>\n",
       "    <tr>\n",
       "      <th>FTM</th>\n",
       "      <td>17.7</td>\n",
       "      <td>17.766667</td>\n",
       "      <td>17.409091</td>\n",
       "    </tr>\n",
       "    <tr>\n",
       "      <th>FTA</th>\n",
       "      <td>22.0</td>\n",
       "      <td>22.000000</td>\n",
       "      <td>21.954545</td>\n",
       "    </tr>\n",
       "    <tr>\n",
       "      <th>FT%</th>\n",
       "      <td>80.4</td>\n",
       "      <td>80.961667</td>\n",
       "      <td>80.518182</td>\n",
       "    </tr>\n",
       "    <tr>\n",
       "      <th>OREB</th>\n",
       "      <td>9.6</td>\n",
       "      <td>9.533333</td>\n",
       "      <td>9.727273</td>\n",
       "    </tr>\n",
       "    <tr>\n",
       "      <th>DREB</th>\n",
       "      <td>35.6</td>\n",
       "      <td>35.183333</td>\n",
       "      <td>36.772727</td>\n",
       "    </tr>\n",
       "    <tr>\n",
       "      <th>REB</th>\n",
       "      <td>45.2</td>\n",
       "      <td>44.716667</td>\n",
       "      <td>46.500000</td>\n",
       "    </tr>\n",
       "    <tr>\n",
       "      <th>AST</th>\n",
       "      <td>25.4</td>\n",
       "      <td>24.250000</td>\n",
       "      <td>28.636364</td>\n",
       "    </tr>\n",
       "    <tr>\n",
       "      <th>STL</th>\n",
       "      <td>14.0</td>\n",
       "      <td>8.316667</td>\n",
       "      <td>8.227273</td>\n",
       "    </tr>\n",
       "    <tr>\n",
       "      <th>BLK</th>\n",
       "      <td>8.3</td>\n",
       "      <td>5.450000</td>\n",
       "      <td>5.000000</td>\n",
       "    </tr>\n",
       "    <tr>\n",
       "      <th>TOV</th>\n",
       "      <td>5.3</td>\n",
       "      <td>13.350000</td>\n",
       "      <td>13.272727</td>\n",
       "    </tr>\n",
       "    <tr>\n",
       "      <th>PF</th>\n",
       "      <td>21.0</td>\n",
       "      <td>20.366667</td>\n",
       "      <td>22.818182</td>\n",
       "    </tr>\n",
       "  </tbody>\n",
       "</table>\n",
       "</div>"
      ],
      "text/plain": [
       "      team_stat  team_stat_w_Kawhi  team_stat_wo_Kawhi\n",
       "PTS       114.4         113.433333          117.181818\n",
       "FGM        42.2          41.866667           43.090909\n",
       "FGA        89.1          88.650000           90.272727\n",
       "FG%        47.4          47.453333           47.954545\n",
       "3PM        12.4          11.933333           13.590909\n",
       "3PA        33.8          33.033333           35.863636\n",
       "3P%        36.6          35.990000           37.959091\n",
       "FTM        17.7          17.766667           17.409091\n",
       "FTA        22.0          22.000000           21.954545\n",
       "FT%        80.4          80.961667           80.518182\n",
       "OREB        9.6           9.533333            9.727273\n",
       "DREB       35.6          35.183333           36.772727\n",
       "REB        45.2          44.716667           46.500000\n",
       "AST        25.4          24.250000           28.636364\n",
       "STL        14.0           8.316667            8.227273\n",
       "BLK         8.3           5.450000            5.000000\n",
       "TOV         5.3          13.350000           13.272727\n",
       "PF         21.0          20.366667           22.818182"
      ]
     },
     "execution_count": 277,
     "metadata": {},
     "output_type": "execute_result"
    }
   ],
   "source": [
    "res"
   ]
  },
  {
   "cell_type": "code",
   "execution_count": 279,
   "metadata": {},
   "outputs": [],
   "source": [
    "import matplotlib.pyplot as plt"
   ]
  },
  {
   "cell_type": "code",
   "execution_count": 281,
   "metadata": {},
   "outputs": [
    {
     "data": {
      "image/png": "[encoded data removed]",
      "text/plain": [
       "<Figure size 1440x720 with 1 Axes>"
      ]
     },
     "metadata": {
      "needs_background": "light"
     },
     "output_type": "display_data"
    }
   ],
   "source": [
    "res.plot.bar(figsize=(20,10));"
   ]
  },
  {
   "cell_type": "code",
   "execution_count": null,
   "metadata": {},
   "outputs": [],
   "source": []
  }
 ],
 "metadata": {
  "kernelspec": {
   "display_name": "Python 3",
   "language": "python",
   "name": "python3"
  },
  "language_info": {
   "codemirror_mode": {
    "name": "ipython",
    "version": 3
   },
   "file_extension": ".py",
   "mimetype": "text/x-python",
   "name": "python",
   "nbconvert_exporter": "python",
   "pygments_lexer": "ipython3",
   "version": "3.6.5"
  }
 },
 "nbformat": 4,
 "nbformat_minor": 2
}
